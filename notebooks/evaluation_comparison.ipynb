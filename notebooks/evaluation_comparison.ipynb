{
 "cells": [
  {
   "cell_type": "markdown",
   "id": "9235afd7",
   "metadata": {},
   "source": [
    "# Evaluation Comparison Notebook\n",
    "Use this notebook to run the QA bot and compare evaluation scores across frameworks.\n",
    "\n",
    "**LangChain + Ollama prerequisites**\n",
    "- Install [Ollama](https://ollama.ai/download) and run `ollama pull llama3` (or any model you prefer).\n",
    "- In your `.env`, set `LANGCHAIN_USE_OLLAMA=true`, `OLLAMA_MODEL=llama3`, and optionally `OLLAMA_BASE_URL`.\n",
    "- Restart the notebook kernel after updating environment variables so LangChain picks up the new settings."
   ]
  },
  {
   "cell_type": "code",
   "execution_count": 13,
   "id": "a2a97848",
   "metadata": {},
   "outputs": [
    {
     "data": {
      "text/plain": [
       "'According to Python Requests, To install the library, use `pip install requests` in your Python environment.'"
      ]
     },
     "execution_count": 13,
     "metadata": {},
     "output_type": "execute_result"
    }
   ],
   "source": [
    "from pathlib import Path\n",
    "import json\n",
    "import sys\n",
    "\n",
    "root = Path(\"..\").resolve()\n",
    "sys.path.insert(0, str(root))\n",
    "sys.path.insert(0, str(root / \"src\"))\n",
    "\n",
    "from src.qa_bot import QABot\n",
    "from evaluations.base_evaluator import EvaluationInput\n",
    "\n",
    "bot = QABot(documents_path=root / \"data\" / \"documents\" / \"sample_docs\")\n",
    "question = \"How do you install the Python requests library?\"\n",
    "answer = bot.answer(question)\n",
    "answer.response"
   ]
  },
  {
   "cell_type": "markdown",
   "id": "1d082acb",
   "metadata": {},
   "source": [
    "## Build Evaluation Dataset\n",
    "\n",
    "Generate predictions for the full test set so we can score the QA bot with an evaluation framework."
   ]
  },
  {
   "cell_type": "code",
   "execution_count": 14,
   "id": "c3cc5e10",
   "metadata": {},
   "outputs": [
    {
     "data": {
      "text/plain": [
       "'Prepared 3 evaluation samples.'"
      ]
     },
     "execution_count": 14,
     "metadata": {},
     "output_type": "execute_result"
    }
   ],
   "source": [
    "from evaluations.utils import load_dataset_from_files\n",
    "\n",
    "questions_path = root / \"data\" / \"test_questions.json\"\n",
    "ground_truth_path = root / \"data\" / \"ground_truth.json\"\n",
    "\n",
    "questions_data = json.loads(questions_path.read_text(encoding=\"utf-8\"))\n",
    "\n",
    "predictions: dict[str, str] = {}\n",
    "for item in questions_data:\n",
    "    response = bot.answer(item[\"question\"])\n",
    "    predictions[item[\"id\"]] = response.response\n",
    "\n",
    "eval_dataset = list(\n",
    "    load_dataset_from_files(\n",
    "        questions_path=questions_path,\n",
    "        ground_truth_path=ground_truth_path,\n",
    "        predictions=predictions,\n",
    "    )\n",
    ")\n",
    "\n",
    "f\"Prepared {len(eval_dataset)} evaluation samples.\""
   ]
  },
  {
   "cell_type": "markdown",
   "id": "e3c75894",
   "metadata": {},
   "source": [
    "## Evaluate with LangChain\n",
    "\n",
    "Run the LangChain evaluation runner. Configure OpenAI or Ollama credentials in `.env` before executing this cell."
   ]
  },
  {
   "cell_type": "code",
   "execution_count": 17,
   "id": "fdc24f17",
   "metadata": {},
   "outputs": [
    {
     "data": {
      "text/plain": [
       "{'framework': 'langchain',\n",
       " 'score': None,\n",
       " 'details': {'error': 'ChatOpenAI requires OPENAI_API_KEY; set LANGCHAIN_USE_OLLAMA=true to use a local model.',\n",
       "  'provider': None}}"
      ]
     },
     "execution_count": 17,
     "metadata": {},
     "output_type": "execute_result"
    }
   ],
   "source": [
    "from evaluations.langchain_eval_runner import LangChainEvalRunner\n",
    "\n",
    "langchain_runner = LangChainEvalRunner(output_dir=root / \"results\")\n",
    "try:\n",
    "    langchain_result = langchain_runner.evaluate(eval_dataset)\n",
    "    langchain_summary = {\n",
    "        \"framework\": langchain_result.framework,\n",
    "        \"score\": langchain_result.score,\n",
    "        \"details\": langchain_result.details,\n",
    "    }\n",
    "except Exception as exc:\n",
    "    langchain_summary = {\n",
    "        \"framework\": \"langchain\",\n",
    "        \"error\": str(exc),\n",
    "    }\n",
    "\n",
    "langchain_summary"
   ]
  }
 ],
 "metadata": {
  "kernelspec": {
   "display_name": ".venv (3.11.9)",
   "language": "python",
   "name": "python3"
  },
  "language_info": {
   "codemirror_mode": {
    "name": "ipython",
    "version": 3
   },
   "file_extension": ".py",
   "mimetype": "text/x-python",
   "name": "python",
   "nbconvert_exporter": "python",
   "pygments_lexer": "ipython3",
   "version": "3.11.9"
  }
 },
 "nbformat": 4,
 "nbformat_minor": 5
}
