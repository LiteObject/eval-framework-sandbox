{
 "cells": [
  {
   "cell_type": "markdown",
   "id": "9235afd7",
   "metadata": {},
   "source": [
    "# Evaluation Comparison Notebook\n",
    "Use this notebook to run the QA bot and compare evaluation scores across frameworks."
   ]
  },
  {
   "cell_type": "code",
   "execution_count": 4,
   "id": "a2a97848",
   "metadata": {},
   "outputs": [
    {
     "data": {
      "text/plain": [
       "'According to Python Requests, To install the library, use `pip install requests` in your Python environment.'"
      ]
     },
     "execution_count": 4,
     "metadata": {},
     "output_type": "execute_result"
    }
   ],
   "source": [
    "from pathlib import Path\n",
    "import json\n",
    "import sys\n",
    "\n",
    "root = Path(\"..\").resolve()\n",
    "sys.path.insert(0, str(root))\n",
    "sys.path.insert(0, str(root / \"src\"))\n",
    "\n",
    "from src.qa_bot import QABot\n",
    "from evaluations.base_evaluator import EvaluationInput\n",
    "\n",
    "bot = QABot(documents_path=root / \"data\" / \"documents\" / \"sample_docs\")\n",
    "question = \"How do you install the Python requests library?\"\n",
    "answer = bot.answer(question)\n",
    "answer.response"
   ]
  }
 ],
 "metadata": {
  "kernelspec": {
   "display_name": ".venv (3.11.9)",
   "language": "python",
   "name": "python3"
  },
  "language_info": {
   "codemirror_mode": {
    "name": "ipython",
    "version": 3
   },
   "file_extension": ".py",
   "mimetype": "text/x-python",
   "name": "python",
   "nbconvert_exporter": "python",
   "pygments_lexer": "ipython3",
   "version": "3.11.9"
  }
 },
 "nbformat": 4,
 "nbformat_minor": 5
}
