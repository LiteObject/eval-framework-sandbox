{
 "cells": [
  {
   "cell_type": "markdown",
   "id": "9235afd7",
   "metadata": {},
   "source": [
    "# Evaluation Comparison Notebook\n",
    "Use this notebook to run the QA bot and compare evaluation scores across frameworks."
   ]
  },
  {
   "cell_type": "code",
   "execution_count": null,
   "id": "a2a97848",
   "metadata": {},
   "outputs": [],
   "source": [
    "from pathlib import Path\n",
    "import json\n",
    "\n",
    "from src.qa_bot import QABot\n",
    "from evaluations.base_evaluator import EvaluationInput\n",
    "\n",
    "root = Path(\"..\").resolve()\n",
    "bot = QABot(documents_path=root / \"data\" / \"documents\" / \"sample_docs\")\n",
    "question = \"How do you install the Python requests library?\"\n",
    "answer = bot.answer(question)\n",
    "answer.response"
   ]
  }
 ],
 "metadata": {
  "language_info": {
   "name": "python"
  }
 },
 "nbformat": 4,
 "nbformat_minor": 5
}
